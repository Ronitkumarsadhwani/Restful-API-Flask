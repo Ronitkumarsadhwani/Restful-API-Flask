{
  "nbformat": 4,
  "nbformat_minor": 0,
  "metadata": {
    "colab": {
      "provenance": []
    },
    "kernelspec": {
      "name": "python3",
      "display_name": "Python 3"
    },
    "language_info": {
      "name": "python"
    }
  },
  "cells": [
    {
      "cell_type": "markdown",
      "source": [
        "#Restful API & Flask\n"
      ],
      "metadata": {
        "id": "AN3JXhgJHdkj"
      }
    },
    {
      "cell_type": "markdown",
      "source": [
        "#theory question"
      ],
      "metadata": {
        "id": "nTZ0eNy-HdY4"
      }
    },
    {
      "cell_type": "markdown",
      "source": [
        "\n",
        "\n",
        "1. What is a RESTful API?\n",
        "- A RESTful API is an interface that follows REST architecture principles. It uses HTTP methods like GET, POST, PUT, and DELETE to perform operations on web resources and typically sends responses in formats like JSON or XML.\n",
        "\n",
        "2. Explain the concept of API specification.\n",
        "- API specification is a detailed document that defines how clients should communicate with an API. It includes endpoint URLs, methods, request and response formats, authentication rules, and status codes to ensure consistent interaction.\n",
        "\n",
        "3. What is Flask, and why is it popular for building APIs?\n",
        "- Flask is a lightweight Python web framework used to create web apps and APIs. It's popular due to its simplicity, flexibility, minimal setup, and availability of helpful extensions like Flask-RESTful and Flask-SQLAlchemy.\n",
        "\n",
        "4. What is routing in Flask?\n",
        "- Routing in Flask means assigning a specific URL path to a function. When a user accesses that URL, Flask triggers the function tied to that route to generate a response.\n",
        "\n",
        "5. How do you create a simple Flask application?\n",
        "- To create a Flask app, you initialize a Flask object, define at least one route, and start the server. It serves web content and handles requests through Python functions mapped to URLs.\n",
        "\n",
        "6. What are HTTP methods used in RESTful APIs?\n",
        "- RESTful APIs commonly use HTTP methods such as GET (to fetch data), POST (to create), PUT/PATCH (to update), and DELETE (to remove). Each method represents a specific action on resources.\n",
        "\n",
        "7. What is the purpose of the @app.route() decorator in Flask?\n",
        "- The @app.route() decorator links a URL to a function. It tells Flask what code to execute when a specific route is requested by the client.\n",
        "\n",
        "8. What is the difference between GET and POST HTTP methods?\n",
        "- GET is used to request and retrieve data without affecting the server’s state, while POST sends data to the server, usually to create or update a resource.\n",
        "\n",
        "9. How do you handle errors in Flask APIs?\n",
        "- Flask allows custom error handling using special functions decorated with @app.errorhandler. This lets you return user-friendly error messages for issues like 404 (Not Found) or 500 (Server Error).\n",
        "\n",
        "10. How do you connect Flask to a SQL database?\n",
        "- You can connect Flask to databases like SQLite or MySQL using extensions like Flask-SQLAlchemy. This requires setting up a database URI and initializing a database object within the Flask app.\n",
        "\n",
        "11. What is the role of Flask-SQLAlchemy?\n",
        "- Flask-SQLAlchemy is an ORM (Object Relational Mapper) that helps manage SQL databases using Python classes. It simplifies query writing and database operations through object-oriented programming.\n",
        "\n",
        "12. What are Flask blueprints, and how are they useful?\n",
        "- Blueprints in Flask help organize code by grouping related routes and functions. They allow modular development, making large applications easier to manage and scale.\n",
        "\n",
        "13. What is the purpose of Flask's request object?\n",
        "- The request object provides access to incoming request data such as form inputs, JSON payloads, headers, and query strings. It is used to read data sent by the client.\n",
        "\n",
        "14. How do you create a RESTful API endpoint using Flask?\n",
        "- A RESTful API endpoint is created by defining a route with a specific HTTP method and returning structured data (usually in JSON). This allows interaction between client and server.\n",
        "\n",
        "15. What is the purpose of Flask's jsonify() function?\n",
        "- jsonify() is used to convert Python data structures (like dictionaries) into JSON format. It also sets the appropriate content-type header automatically in the HTTP response.\n",
        "\n",
        "16. Explain Flask’s url_for() function.\n",
        "- The url_for() function dynamically generates a URL for a given function. It helps avoid hardcoding URLs in templates and ensures flexibility when routes change.\n",
        "\n",
        "17. How does Flask handle static files (CSS, JavaScript, etc.)?\n",
        "- Flask serves static files from a folder named static within the project. These files can be linked in HTML templates using the url_for('static', filename='...') function.\n",
        "\n",
        "18. What is an API specification, and how does it help in building a Flask API?\n",
        "- An API specification defines the structure and behavior of an API, including its endpoints, methods, and data formats. It helps developers understand how to interact with the API and ensures consistency across development teams.\n",
        "\n",
        "19. What are HTTP status codes, and why are they important in a Flask API?\n",
        "- HTTP status codes are numbers returned by the server to indicate the result of a request. They help the client understand whether the request was successful, failed, or encountered an error.\n",
        "\n",
        "20. How do you handle POST requests in Flask?\n",
        "- In Flask, POST requests are handled by defining a route that accepts the POST method. The data sent by the client can then be accessed using the request object and processed accordingly.\n",
        "\n",
        "21. How would you secure a Flask API?\n",
        "- To secure a Flask API, use HTTPS, input validation, authentication methods (like JWT or API keys), CSRF protection, and limit access to sensitive endpoints.\n",
        "\n",
        "22. What is the significance of the Flask-RESTful extension?\n",
        "- Flask-RESTful helps create REST APIs more easily by offering class-based resources, request parsing, and automatic JSON formatting. It organizes code more cleanly for scalable projects.\n",
        "\n",
        "23. What is the role of Flask’s session object?\n",
        "- The session object stores temporary data (like user login info) across multiple requests. It uses secure cookies to maintain state between the client and server.\n"
      ],
      "metadata": {
        "id": "P-1Ci2RDHoN3"
      }
    },
    {
      "cell_type": "markdown",
      "source": [
        "#practical questions"
      ],
      "metadata": {
        "id": "Si_CbqWFKWJR"
      }
    },
    {
      "cell_type": "code",
      "source": [
        "# Q1: How do you create a basic Flask application?\n",
        "from flask import Flask\n",
        "app = Flask(__name__)\n",
        "\n",
        "@app.route('/')\n",
        "def home():\n",
        "    return \"Hello, this is a basic Flask app.\"\n",
        "\n",
        "if __name__ == '__main__':\n",
        "    app.run(debug=True)\n"
      ],
      "metadata": {
        "colab": {
          "base_uri": "https://localhost:8080/"
        },
        "id": "es2uF2rsKdhX",
        "outputId": "5cdc73cf-615f-4e5b-87b4-b1ae9cf6a6c9"
      },
      "execution_count": 6,
      "outputs": [
        {
          "output_type": "stream",
          "name": "stdout",
          "text": [
            " * Serving Flask app '__main__'\n",
            " * Debug mode: on\n"
          ]
        },
        {
          "output_type": "stream",
          "name": "stderr",
          "text": [
            "INFO:werkzeug:\u001b[31m\u001b[1mWARNING: This is a development server. Do not use it in a production deployment. Use a production WSGI server instead.\u001b[0m\n",
            " * Running on http://127.0.0.1:5000\n",
            "INFO:werkzeug:\u001b[33mPress CTRL+C to quit\u001b[0m\n",
            "INFO:werkzeug: * Restarting with stat\n"
          ]
        }
      ]
    },
    {
      "cell_type": "code",
      "source": [
        "# Q2: How do you serve static files like images or CSS in Flask?\n",
        "# (Place your file inside a folder named 'static', e.g., 'static/style.css')\n",
        "# Then use this path in HTML: <link rel=\"stylesheet\" href=\"{{ url_for('static', filename='style.css') }}\">\n"
      ],
      "metadata": {
        "id": "gmQVCT9AKeA7"
      },
      "execution_count": 7,
      "outputs": []
    },
    {
      "cell_type": "code",
      "source": [
        "# Q3: How do you define different routes with different HTTP methods in Flask?\n",
        "from flask import Flask, request\n",
        "app = Flask(__name__)\n",
        "\n",
        "@app.route('/get-data', methods=['GET'])\n",
        "def get_data():\n",
        "    return \"GET method called\"\n",
        "\n",
        "@app.route('/post-data', methods=['POST'])\n",
        "def post_data():\n",
        "    return \"POST method called\"\n",
        "\n",
        "if __name__ == '__main__':\n",
        "    app.run(debug=True)\n"
      ],
      "metadata": {
        "colab": {
          "base_uri": "https://localhost:8080/"
        },
        "id": "hOBQmtxzKeMA",
        "outputId": "63604900-85dd-4573-9787-c1069cb99029"
      },
      "execution_count": 8,
      "outputs": [
        {
          "output_type": "stream",
          "name": "stdout",
          "text": [
            " * Serving Flask app '__main__'\n",
            " * Debug mode: on\n"
          ]
        },
        {
          "output_type": "stream",
          "name": "stderr",
          "text": [
            "INFO:werkzeug:\u001b[31m\u001b[1mWARNING: This is a development server. Do not use it in a production deployment. Use a production WSGI server instead.\u001b[0m\n",
            " * Running on http://127.0.0.1:5000\n",
            "INFO:werkzeug:\u001b[33mPress CTRL+C to quit\u001b[0m\n",
            "INFO:werkzeug: * Restarting with stat\n"
          ]
        }
      ]
    },
    {
      "cell_type": "code",
      "source": [
        "# Q4: How do you render HTML templates in Flask?\n",
        "from flask import Flask, render_template\n",
        "app = Flask(__name__)\n",
        "\n",
        "@app.route('/')\n",
        "def show_home():\n",
        "    return render_template('home.html')  # Ensure home.html is in the 'templates' folder\n",
        "\n",
        "if __name__ == '__main__':\n",
        "    app.run(debug=True)\n"
      ],
      "metadata": {
        "colab": {
          "base_uri": "https://localhost:8080/"
        },
        "id": "bntQKjq6KeSf",
        "outputId": "94543e8d-1abd-4ca9-987d-54c6654cb8e4"
      },
      "execution_count": 20,
      "outputs": [
        {
          "output_type": "stream",
          "name": "stdout",
          "text": [
            " * Serving Flask app '__main__'\n",
            " * Debug mode: on\n"
          ]
        },
        {
          "output_type": "stream",
          "name": "stderr",
          "text": [
            "INFO:werkzeug:\u001b[31m\u001b[1mWARNING: This is a development server. Do not use it in a production deployment. Use a production WSGI server instead.\u001b[0m\n",
            " * Running on http://127.0.0.1:5000\n",
            "INFO:werkzeug:\u001b[33mPress CTRL+C to quit\u001b[0m\n",
            "INFO:werkzeug: * Restarting with stat\n"
          ]
        }
      ]
    },
    {
      "cell_type": "code",
      "source": [
        "# Q6: How do you handle forms in Flask?\n",
        "from flask import Flask, request, render_template\n",
        "app = Flask(__name__)\n",
        "\n",
        "@app.route('/', methods=['GET', 'POST'])\n",
        "def form_example():\n",
        "    if request.method == 'POST':\n",
        "        name = request.form['name']\n",
        "        return f\"Hello, {name}!\"\n",
        "    return render_template('form.html')  # form.html must include an HTML form\n",
        "\n",
        "if __name__ == '__main__':\n",
        "    app.run(debug=True)\n"
      ],
      "metadata": {
        "colab": {
          "base_uri": "https://localhost:8080/"
        },
        "id": "-GDPAnf9KeXg",
        "outputId": "e55616df-0115-44eb-e386-1dcce85d89b9"
      },
      "execution_count": 10,
      "outputs": [
        {
          "output_type": "stream",
          "name": "stdout",
          "text": [
            " * Serving Flask app '__main__'\n",
            " * Debug mode: on\n"
          ]
        },
        {
          "output_type": "stream",
          "name": "stderr",
          "text": [
            "INFO:werkzeug:\u001b[31m\u001b[1mWARNING: This is a development server. Do not use it in a production deployment. Use a production WSGI server instead.\u001b[0m\n",
            " * Running on http://127.0.0.1:5000\n",
            "INFO:werkzeug:\u001b[33mPress CTRL+C to quit\u001b[0m\n",
            "INFO:werkzeug: * Restarting with stat\n"
          ]
        }
      ]
    },
    {
      "cell_type": "code",
      "source": [
        "# Q7: How can you validate form data in Flask?\n",
        "from flask import Flask, request, render_template_string\n",
        "app = Flask(__name__)\n",
        "\n",
        "@app.route('/', methods=['GET', 'POST'])\n",
        "def validate_form():\n",
        "    error = None\n",
        "    if request.method == 'POST':\n",
        "        name = request.form['name']\n",
        "        if not name:\n",
        "            error = \"Name is required!\"\n",
        "        else:\n",
        "            return f\"Welcome, {name}!\"\n",
        "    return render_template_string('''<form method=\"post\">\n",
        "        Name: <input name=\"name\"><br>\n",
        "        <input type=\"submit\">\n",
        "        <p>{{ error }}</p>\n",
        "        </form>''', error=error)\n",
        "\n",
        "if __name__ == '__main__':\n",
        "    app.run(debug=True)\n"
      ],
      "metadata": {
        "colab": {
          "base_uri": "https://localhost:8080/"
        },
        "id": "Fihw9wCAKea-",
        "outputId": "818ba413-19c5-407a-ec97-d0e2e5ac90d1"
      },
      "execution_count": 11,
      "outputs": [
        {
          "output_type": "stream",
          "name": "stdout",
          "text": [
            " * Serving Flask app '__main__'\n",
            " * Debug mode: on\n"
          ]
        },
        {
          "output_type": "stream",
          "name": "stderr",
          "text": [
            "INFO:werkzeug:\u001b[31m\u001b[1mWARNING: This is a development server. Do not use it in a production deployment. Use a production WSGI server instead.\u001b[0m\n",
            " * Running on http://127.0.0.1:5000\n",
            "INFO:werkzeug:\u001b[33mPress CTRL+C to quit\u001b[0m\n",
            "INFO:werkzeug: * Restarting with stat\n"
          ]
        }
      ]
    },
    {
      "cell_type": "code",
      "source": [
        "# Q8: How do you manage sessions in Flask?\n",
        "from flask import Flask, session, redirect, url_for, request\n",
        "app = Flask(__name__)\n",
        "app.secret_key = 'secret123'\n",
        "\n",
        "@app.route('/', methods=['GET', 'POST'])\n",
        "def login():\n",
        "    if request.method == 'POST':\n",
        "        session['user'] = request.form['username']\n",
        "        return redirect(url_for('profile'))\n",
        "    return '''\n",
        "        <form method=\"post\">\n",
        "            Username: <input name=\"username\">\n",
        "            <input type=\"submit\">\n",
        "        </form>\n",
        "    '''\n",
        "\n",
        "@app.route('/profile')\n",
        "def profile():\n",
        "    user = session.get('user')\n",
        "    return f\"Hello, {user}\" if user else redirect(url_for('login'))\n",
        "\n",
        "if __name__ == '__main__':\n",
        "    app.run(debug=True)\n"
      ],
      "metadata": {
        "colab": {
          "base_uri": "https://localhost:8080/"
        },
        "id": "HXuscqdGKeeb",
        "outputId": "931e1344-5f36-474c-e428-8eb7dfd7fe27"
      },
      "execution_count": 12,
      "outputs": [
        {
          "output_type": "stream",
          "name": "stdout",
          "text": [
            " * Serving Flask app '__main__'\n",
            " * Debug mode: on\n"
          ]
        },
        {
          "output_type": "stream",
          "name": "stderr",
          "text": [
            "INFO:werkzeug:\u001b[31m\u001b[1mWARNING: This is a development server. Do not use it in a production deployment. Use a production WSGI server instead.\u001b[0m\n",
            " * Running on http://127.0.0.1:5000\n",
            "INFO:werkzeug:\u001b[33mPress CTRL+C to quit\u001b[0m\n",
            "INFO:werkzeug: * Restarting with stat\n"
          ]
        }
      ]
    },
    {
      "cell_type": "code",
      "source": [
        "# Q9: How do you redirect to a different route in Flask?\n",
        "from flask import Flask, redirect, url_for\n",
        "app = Flask(__name__)\n",
        "\n",
        "@app.route('/')\n",
        "def home():\n",
        "    return redirect(url_for('new_page'))\n",
        "\n",
        "@app.route('/new')\n",
        "def new_page():\n",
        "    return \"You were redirected here.\"\n",
        "\n",
        "if __name__ == '__main__':\n",
        "    app.run(debug=True)\n"
      ],
      "metadata": {
        "colab": {
          "base_uri": "https://localhost:8080/"
        },
        "id": "nBbemthkKeh8",
        "outputId": "b7d1fb20-cc92-4548-9956-da115967b9cc"
      },
      "execution_count": 13,
      "outputs": [
        {
          "output_type": "stream",
          "name": "stdout",
          "text": [
            " * Serving Flask app '__main__'\n",
            " * Debug mode: on\n"
          ]
        },
        {
          "output_type": "stream",
          "name": "stderr",
          "text": [
            "INFO:werkzeug:\u001b[31m\u001b[1mWARNING: This is a development server. Do not use it in a production deployment. Use a production WSGI server instead.\u001b[0m\n",
            " * Running on http://127.0.0.1:5000\n",
            "INFO:werkzeug:\u001b[33mPress CTRL+C to quit\u001b[0m\n",
            "INFO:werkzeug: * Restarting with stat\n"
          ]
        }
      ]
    },
    {
      "cell_type": "code",
      "source": [
        "# Q10: How do you handle errors in Flask (e.g., 404)?\n",
        "from flask import Flask\n",
        "app = Flask(__name__)\n",
        "\n",
        "@app.errorhandler(404)\n",
        "def not_found_error(e):\n",
        "    return \"404 Error - Page Not Found\", 404\n",
        "\n",
        "if __name__ == '__main__':\n",
        "    app.run(debug=True)\n"
      ],
      "metadata": {
        "colab": {
          "base_uri": "https://localhost:8080/"
        },
        "id": "V4yJieu2Kelf",
        "outputId": "3b77816b-adc7-4f37-c731-7d35d284c26b"
      },
      "execution_count": 14,
      "outputs": [
        {
          "output_type": "stream",
          "name": "stdout",
          "text": [
            " * Serving Flask app '__main__'\n",
            " * Debug mode: on\n"
          ]
        },
        {
          "output_type": "stream",
          "name": "stderr",
          "text": [
            "INFO:werkzeug:\u001b[31m\u001b[1mWARNING: This is a development server. Do not use it in a production deployment. Use a production WSGI server instead.\u001b[0m\n",
            " * Running on http://127.0.0.1:5000\n",
            "INFO:werkzeug:\u001b[33mPress CTRL+C to quit\u001b[0m\n",
            "INFO:werkzeug: * Restarting with stat\n"
          ]
        }
      ]
    },
    {
      "cell_type": "code",
      "source": [
        "# Q11: How do you structure a Flask app using Blueprints?\n",
        "# This is a simplified single-file version showing blueprint registration\n",
        "from flask import Flask, Blueprint\n",
        "\n",
        "bp = Blueprint('simple_bp', __name__)\n",
        "\n",
        "@bp.route('/blueprint')\n",
        "def hello():\n",
        "    return \"Hello from Blueprint!\"\n",
        "\n",
        "app = Flask(__name__)\n",
        "app.register_blueprint(bp)\n",
        "\n",
        "if __name__ == '__main__':\n",
        "    app.run(debug=True)\n"
      ],
      "metadata": {
        "colab": {
          "base_uri": "https://localhost:8080/"
        },
        "id": "aywsA8vqKepL",
        "outputId": "d59a546a-26f2-4863-8694-f039b3d7d55c"
      },
      "execution_count": 15,
      "outputs": [
        {
          "output_type": "stream",
          "name": "stdout",
          "text": [
            " * Serving Flask app '__main__'\n",
            " * Debug mode: on\n"
          ]
        },
        {
          "output_type": "stream",
          "name": "stderr",
          "text": [
            "INFO:werkzeug:\u001b[31m\u001b[1mWARNING: This is a development server. Do not use it in a production deployment. Use a production WSGI server instead.\u001b[0m\n",
            " * Running on http://127.0.0.1:5000\n",
            "INFO:werkzeug:\u001b[33mPress CTRL+C to quit\u001b[0m\n",
            "INFO:werkzeug: * Restarting with stat\n"
          ]
        }
      ]
    },
    {
      "cell_type": "code",
      "source": [
        "# Q12: How do you define a custom Jinja filter in Flask?\n",
        "from flask import Flask, render_template_string\n",
        "app = Flask(__name__)\n",
        "\n",
        "@app.template_filter('reverse')\n",
        "def reverse_filter(s):\n",
        "    return s[::-1]\n",
        "\n",
        "@app.route('/')\n",
        "def index():\n",
        "    return render_template_string(\"{{ 'Flask' | reverse }}\")\n",
        "\n",
        "if __name__ == '__main__':\n",
        "    app.run(debug=True)\n"
      ],
      "metadata": {
        "colab": {
          "base_uri": "https://localhost:8080/"
        },
        "id": "Jz8sw9gtKesY",
        "outputId": "a84c4e4d-56bf-41f3-884d-8e74aa97fcba"
      },
      "execution_count": 16,
      "outputs": [
        {
          "output_type": "stream",
          "name": "stdout",
          "text": [
            " * Serving Flask app '__main__'\n",
            " * Debug mode: on\n"
          ]
        },
        {
          "output_type": "stream",
          "name": "stderr",
          "text": [
            "INFO:werkzeug:\u001b[31m\u001b[1mWARNING: This is a development server. Do not use it in a production deployment. Use a production WSGI server instead.\u001b[0m\n",
            " * Running on http://127.0.0.1:5000\n",
            "INFO:werkzeug:\u001b[33mPress CTRL+C to quit\u001b[0m\n",
            "INFO:werkzeug: * Restarting with stat\n"
          ]
        }
      ]
    },
    {
      "cell_type": "code",
      "source": [
        "# Q13: How can you redirect with query parameters in Flask?\n",
        "from flask import Flask, redirect, url_for, request\n",
        "app = Flask(__name__)\n",
        "\n",
        "@app.route('/')\n",
        "def home():\n",
        "    return redirect(url_for('greet', name='Ronit'))\n",
        "\n",
        "@app.route('/greet')\n",
        "def greet():\n",
        "    name = request.args.get('name', 'Guest')\n",
        "    return f\"Hello, {name}!\"\n",
        "\n",
        "if __name__ == '__main__':\n",
        "    app.run(debug=True)\n"
      ],
      "metadata": {
        "colab": {
          "base_uri": "https://localhost:8080/"
        },
        "id": "WnjgC9sEKcFe",
        "outputId": "0cfda8ea-10fb-4cd8-b765-71833cb5e8f2"
      },
      "execution_count": 17,
      "outputs": [
        {
          "output_type": "stream",
          "name": "stdout",
          "text": [
            " * Serving Flask app '__main__'\n",
            " * Debug mode: on\n"
          ]
        },
        {
          "output_type": "stream",
          "name": "stderr",
          "text": [
            "INFO:werkzeug:\u001b[31m\u001b[1mWARNING: This is a development server. Do not use it in a production deployment. Use a production WSGI server instead.\u001b[0m\n",
            " * Running on http://127.0.0.1:5000\n",
            "INFO:werkzeug:\u001b[33mPress CTRL+C to quit\u001b[0m\n",
            "INFO:werkzeug: * Restarting with stat\n"
          ]
        }
      ]
    },
    {
      "cell_type": "code",
      "source": [
        "# Q14: How do you return JSON responses in Flask?\n",
        "from flask import Flask, jsonify\n",
        "app = Flask(__name__)\n",
        "\n",
        "@app.route('/data')\n",
        "def data():\n",
        "    return jsonify({\"message\": \"Success\", \"code\": 200})\n",
        "\n",
        "if __name__ == '__main__':\n",
        "    app.run(debug=True)\n"
      ],
      "metadata": {
        "colab": {
          "base_uri": "https://localhost:8080/"
        },
        "id": "8NAbXk99Kdc4",
        "outputId": "38a77a49-5ef7-412b-daa4-8e9f960005f3"
      },
      "execution_count": 18,
      "outputs": [
        {
          "output_type": "stream",
          "name": "stdout",
          "text": [
            " * Serving Flask app '__main__'\n",
            " * Debug mode: on\n"
          ]
        },
        {
          "output_type": "stream",
          "name": "stderr",
          "text": [
            "INFO:werkzeug:\u001b[31m\u001b[1mWARNING: This is a development server. Do not use it in a production deployment. Use a production WSGI server instead.\u001b[0m\n",
            " * Running on http://127.0.0.1:5000\n",
            "INFO:werkzeug:\u001b[33mPress CTRL+C to quit\u001b[0m\n",
            "INFO:werkzeug: * Restarting with stat\n"
          ]
        }
      ]
    },
    {
      "cell_type": "code",
      "source": [
        "# Q15: How do you capture URL parameters in Flask?\n",
        "from flask import Flask\n",
        "app = Flask(__name__)\n",
        "\n",
        "@app.route('/user/<username>')\n",
        "def show_user(username):\n",
        "    return f\"User: {username}\"\n",
        "\n",
        "if __name__ == '__main__':\n",
        "    app.run(debug=True)\n"
      ],
      "metadata": {
        "colab": {
          "base_uri": "https://localhost:8080/"
        },
        "id": "JxCAjFYAL1N3",
        "outputId": "77225c41-b9e5-4043-ef2e-91710584de2b"
      },
      "execution_count": 19,
      "outputs": [
        {
          "output_type": "stream",
          "name": "stdout",
          "text": [
            " * Serving Flask app '__main__'\n",
            " * Debug mode: on\n"
          ]
        },
        {
          "output_type": "stream",
          "name": "stderr",
          "text": [
            "INFO:werkzeug:\u001b[31m\u001b[1mWARNING: This is a development server. Do not use it in a production deployment. Use a production WSGI server instead.\u001b[0m\n",
            " * Running on http://127.0.0.1:5000\n",
            "INFO:werkzeug:\u001b[33mPress CTRL+C to quit\u001b[0m\n",
            "INFO:werkzeug: * Restarting with stat\n"
          ]
        }
      ]
    }
  ]
}